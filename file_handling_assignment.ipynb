{
  "nbformat": 4,
  "nbformat_minor": 0,
  "metadata": {
    "colab": {
      "provenance": [],
      "authorship_tag": "ABX9TyPt2wfrdDA9sO/hCJzhIcHV",
      "include_colab_link": true
    },
    "kernelspec": {
      "name": "python3",
      "display_name": "Python 3"
    },
    "language_info": {
      "name": "python"
    }
  },
  "cells": [
    {
      "cell_type": "markdown",
      "metadata": {
        "id": "view-in-github",
        "colab_type": "text"
      },
      "source": [
        "<a href=\"https://colab.research.google.com/github/Hali57/python-file-handling/blob/main/file_handling_assignment.ipynb\" target=\"_parent\"><img src=\"https://colab.research.google.com/assets/colab-badge.svg\" alt=\"Open In Colab\"/></a>"
      ]
    },
    {
      "cell_type": "code",
      "execution_count": null,
      "metadata": {
        "id": "wS1dfPddY_JI"
      },
      "outputs": [],
      "source": [
        "#create a my_file.txt in write mode\n",
        "#the file should have atleast three lines of text\n",
        "with open(\"my_file\", \"r+\") as file:\n",
        "  file.write(\"Hello I am happy to meet you \\n\")\n",
        "  file.seek(0, 2)\n",
        "  file.seek(0)\n",
        "  content = file.read()\n",
        "\n",
        "\n",
        "print(content)"
      ]
    },
    {
      "cell_type": "code",
      "source": [
        "#modify the file and in append mode and add three more lines\n",
        "#Handle exceptions\n",
        "try:\n",
        "  with open(\"my_file\", \"a+\") as new_file:\n",
        "\n",
        "    lines = [\"\\nMy number has changed to +25490274654 \\n\", \"Please update it \\n\", \"Reach out anytime \\n\"]\n",
        "\n",
        "    new_file.writelines(lines)\n",
        "    new_file.seek(0)\n",
        "\n",
        "    new_content = new_file.read()\n",
        "\n",
        "\n",
        "\n",
        "\n",
        "  # Handle FileNotFoundError exception\n",
        "except FileNotFoundError:\n",
        "    print(\"File not found. Please check the file path.\")\n",
        "except PermissionError:\n",
        "    # Handle PermissionError exception\n",
        "    print(\"Permission denied. You don't have permission to access the file.\")\n",
        "else:\n",
        "    # Execute if no exception is raised\n",
        "    print(\"File content:\")\n",
        "    print(new_content)\n",
        "finally:\n",
        "    # Execute regardless of whether an exception occurred or not\n",
        "    print(\"File operation completed.\")"
      ],
      "metadata": {
        "colab": {
          "base_uri": "https://localhost:8080/"
        },
        "id": "jRM-NyUiayuE",
        "outputId": "7e567b21-ee4e-4d91-9e05-0bfdabba53eb"
      },
      "execution_count": 31,
      "outputs": [
        {
          "output_type": "stream",
          "name": "stdout",
          "text": [
            "File content:\n",
            "Hello I am happy to meet you \n",
            "My number is -200100300\n",
            "Call me anytime\n",
            "My number has changed to +25490274654 \n",
            "Please update it \n",
            "Reach out anytime \n",
            "\n",
            "File operation completed.\n"
          ]
        }
      ]
    },
    {
      "cell_type": "code",
      "source": [
        ""
      ],
      "metadata": {
        "id": "0ZdAqjy8gAs6"
      },
      "execution_count": null,
      "outputs": []
    }
  ]
}